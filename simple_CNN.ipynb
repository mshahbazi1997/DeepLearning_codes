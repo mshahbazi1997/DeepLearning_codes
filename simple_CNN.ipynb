{
 "cells": [
  {
   "cell_type": "markdown",
   "metadata": {},
   "source": [
    "# Simple code\n",
    "First make sure that you install requirements:\n",
    "\n",
    "`!pip install -r requirements.txt`"
   ]
  },
  {
   "cell_type": "code",
   "execution_count": 1,
   "metadata": {
    "colab": {},
    "colab_type": "code",
    "id": "flZ1MOT8F8kE"
   },
   "outputs": [],
   "source": [
    "import os\n",
    "import torch\n",
    "import torch.nn as nn\n",
    "import torch.nn.functional as F\n",
    "import torch.optim as optim\n",
    "import numpy as np\n",
    "from torchvision import transforms, datasets\n",
    "import matplotlib.pyplot as plt\n",
    "from sklearn.preprocessing import OneHotEncoder # this function is used to prepare one-hot encoded labels\n",
    "\n",
    "%matplotlib inline\n",
    "plt.rcParams['figure.figsize'] = (10,3) # set default size of plots\n",
    "\n",
    "data_dir = os.path.join(os.path.expanduser('~'),'Documents','Data')\n",
    "save_dir = os.path.join(os.path.expanduser('~'),'Documents','Data','Simulations')\n",
    "device = 'cpu'"
   ]
  },
  {
   "cell_type": "code",
   "execution_count": 2,
   "metadata": {
    "colab": {},
    "colab_type": "code",
    "id": "rg-CYaG9GU03"
   },
   "outputs": [
    {
     "name": "stdout",
     "output_type": "stream",
     "text": [
      "Files already downloaded and verified\n",
      "Files already downloaded and verified\n"
     ]
    },
    {
     "data": {
      "image/png": "[encoded data removed]",
      "text/plain": [
       "<Figure size 1000x300 with 1 Axes>"
      ]
     },
     "metadata": {},
     "output_type": "display_data"
    },
    {
     "name": "stdout",
     "output_type": "stream",
     "text": [
      "True\n",
      "torch.Size([3, 32, 32])\n"
     ]
    }
   ],
   "source": [
    "# CIFAR10 Dataset\n",
    "original_train_dataset = datasets.CIFAR10(root=data_dir, train=True, transform=transforms.ToTensor(), download=True)\n",
    "original_test_dataset = datasets.CIFAR10(root=data_dir, train=False, transform=transforms.ToTensor(), download=True)\n",
    "\n",
    "plt.imshow(original_train_dataset.data[1]) # represnting a sample data from CIFAR-10\n",
    "plt.show()\n",
    "\n",
    "print(torch.is_tensor(original_train_dataset[1][0]))  # This will print True if the data is indeed a PyTorch tensor\n",
    "print(original_train_dataset[1][0].shape)"
   ]
  },
  {
   "cell_type": "code",
   "execution_count": 6,
   "metadata": {},
   "outputs": [],
   "source": [
    "x_train = np.array(original_train_dataset.data,dtype='float32')\n",
    "x_test = np.array(original_test_dataset.data,dtype='float32')\n",
    "\n",
    "\n",
    "x_test = torch.tensor(x_test)\n",
    "x_test = x_test.permute(0,3,1,2)\n",
    "x_test.to(device)\n",
    "\n",
    "\n",
    "# Reshape y_train and y_test to 2D arrays\n",
    "y_train = np.array(original_train_dataset.targets)\n",
    "y_test = np.array(original_test_dataset.targets)\n",
    "\n",
    "y_test = torch.tensor(y_test)\n",
    "y_test.to(device)"
   ]
  },
  {
   "cell_type": "code",
   "execution_count": 4,
   "metadata": {},
   "outputs": [],
   "source": [
    "def make_batches(x, y, batch_size):\n",
    "    n = len(y)\n",
    "    steps = n // batch_size\n",
    "    if n % batch_size != 0:\n",
    "        steps += 1\n",
    "    x_batches = np.array_split(x,steps)\n",
    "    y_batches = np.array_split(y,steps)\n",
    "    return x_batches, y_batches"
   ]
  },
  {
   "cell_type": "code",
   "execution_count": 9,
   "metadata": {},
   "outputs": [
    {
     "name": "stdout",
     "output_type": "stream",
     "text": [
      "conv1.weight torch.Size([16, 3, 5, 5])\n",
      "conv1.bias torch.Size([16])\n",
      "conv2.weight torch.Size([16, 16, 5, 5])\n",
      "conv2.bias torch.Size([16])\n",
      "conv3.weight torch.Size([32, 16, 5, 5])\n",
      "conv3.bias torch.Size([32])\n",
      "conv4.weight torch.Size([32, 32, 5, 5])\n",
      "conv4.bias torch.Size([32])\n",
      "conv5.weight torch.Size([64, 32, 5, 5])\n",
      "conv5.bias torch.Size([64])\n",
      "fc1.weight torch.Size([128, 4096])\n",
      "fc1.bias torch.Size([128])\n",
      "fc2.weight torch.Size([128, 128])\n",
      "fc2.bias torch.Size([128])\n",
      "fc3.weight torch.Size([10, 128])\n",
      "fc3.bias torch.Size([10])\n"
     ]
    }
   ],
   "source": [
    "class MyCNN(nn.Module):\n",
    "    def __init__(self,device):\n",
    "        super().__init__()\n",
    "        # Convolutional layers\n",
    "        self.conv1 = nn.Conv2d(in_channels=3, out_channels=16, kernel_size=5, padding='same')\n",
    "        self.conv2 = nn.Conv2d(in_channels=16, out_channels=16, kernel_size=5, padding='same')\n",
    "        self.conv3 = nn.Conv2d(in_channels=16, out_channels=32, kernel_size=5, padding='same')\n",
    "        self.conv4 = nn.Conv2d(in_channels=32, out_channels=32, kernel_size=5, padding='same')\n",
    "        self.conv5 = nn.Conv2d(in_channels=32, out_channels=64, kernel_size=5, padding='same')\n",
    "        \n",
    "        # Max pooling layer\n",
    "        self.maxpool = nn.MaxPool2d(kernel_size=3, stride=2, padding=1)\n",
    "        \n",
    "        # Fully connected layers\n",
    "        self.fc1 = nn.Linear(in_features=64*8*8, out_features=128)\n",
    "        self.fc2 = nn.Linear(in_features=128, out_features=128)\n",
    "        self.fc3 = nn.Linear(in_features=128, out_features=10)\n",
    "\n",
    "        # Activation functions\n",
    "        self.relu = nn.ReLU()\n",
    "        self.softmax = nn.Softmax(dim=1)\n",
    "\n",
    "        for name, param in self.named_parameters():\n",
    "            print(name, param.shape)\n",
    "            if name == \"conv1.weight\" or name == \"conv2.weight\" or name == \"conv3.weight\" or name == \"conv4.weight\" or name == \"conv5.weight\" or name == \"fc1.weight\" or name == \"fc2.weight\" or name == \"fc3.weight\":\n",
    "                nn.init.normal_(param,std=0.05)\n",
    "            if name == \"conv1.bias\" or name == \"conv2.bias\" or name == \"conv3.bias\" or name == \"conv4.bias\" or name == \"conv5.bias\" or name == \"fc1.bias\" or name == \"fc2.bias\" or name == \"fc3.bias\":\n",
    "                nn.init.zeros_(param)\n",
    "        self.to(device)\n",
    "\n",
    "\n",
    "    def forward(self, x):\n",
    "        # Convolutional layers with ReLU activation\n",
    "        x = self.relu(self.conv1(x))\n",
    "        x = self.relu(self.conv2(x))\n",
    "        x = self.maxpool(x)\n",
    "        x = self.relu(self.conv3(x))\n",
    "        x = self.relu(self.conv4(x))\n",
    "        x = self.maxpool(x)\n",
    "        x = self.relu(self.conv5(x))\n",
    "        \n",
    "        # Flatten the output for fully connected layers\n",
    "        x = x.view(-1, 64*8*8)\n",
    "        \n",
    "        # Fully connected layers with ReLU activation\n",
    "        x = self.relu(self.fc1(x))\n",
    "        x = self.relu(self.fc2(x))\n",
    "        \n",
    "        # Output layer with softmax activation\n",
    "        #x = self.softmax(self.fc3(x))\n",
    "        return x\n",
    "model = MyCNN(device)"
   ]
  },
  {
   "cell_type": "code",
   "execution_count": 17,
   "metadata": {
    "colab": {},
    "colab_type": "code",
    "id": "Kv2HXF9gIQ-Q"
   },
   "outputs": [],
   "source": [
    "lr = 1e-4\n",
    "\n",
    "opt = optim.Adam(model.parameters(), lr=lr)\n",
    "criterion = nn.CrossEntropyLoss()\n",
    "\n",
    "batch_size = 256\n",
    "x_train_batches, y_train_batches = make_batches(x_train, y_train, batch_size)"
   ]
  },
  {
   "cell_type": "code",
   "execution_count": 18,
   "metadata": {
    "colab": {},
    "colab_type": "code",
    "id": "7L-wvColI2fW"
   },
   "outputs": [],
   "source": [
    "N_EPOCH = 100"
   ]
  },
  {
   "cell_type": "code",
   "execution_count": 19,
   "metadata": {
    "colab": {
     "base_uri": "https://localhost:8080/",
     "height": 994
    },
    "colab_type": "code",
    "id": "T6q_InsGI-ad",
    "outputId": "e465ca79-d6dc-4442-fe67-94a3cc3a6b61"
   },
   "outputs": [
    {
     "name": "stdout",
     "output_type": "stream",
     "text": [
      "epoch: 0 \t last batch loss: 1.8863343000411987\n",
      "epoch: 1 \t last batch loss: 1.6850991249084473\n",
      "epoch: 2 \t last batch loss: 1.5256953239440918\n",
      "epoch: 3 \t last batch loss: 1.4202570915222168\n",
      "epoch: 4 \t last batch loss: 1.3495240211486816\n",
      "epoch: 5 \t last batch loss: 1.2969039678573608\n",
      "epoch: 6 \t last batch loss: 1.2422821521759033\n",
      "epoch: 7 \t last batch loss: 1.181040644645691\n",
      "epoch: 8 \t last batch loss: 1.1344681978225708\n",
      "epoch: 9 \t last batch loss: 1.0838072299957275\n",
      "epoch: 10 \t last batch loss: 1.0469635725021362\n",
      "epoch: 11 \t last batch loss: 1.0168917179107666\n",
      "epoch: 12 \t last batch loss: 0.974344789981842\n",
      "epoch: 13 \t last batch loss: 0.932620644569397\n",
      "epoch: 14 \t last batch loss: 0.8892673254013062\n",
      "epoch: 15 \t last batch loss: 0.8581683039665222\n",
      "epoch: 16 \t last batch loss: 0.827208399772644\n",
      "epoch: 17 \t last batch loss: 0.7967416048049927\n",
      "epoch: 18 \t last batch loss: 0.780257523059845\n",
      "epoch: 19 \t last batch loss: 0.7680070400238037\n",
      "epoch: 20 \t last batch loss: 0.7337794899940491\n",
      "epoch: 21 \t last batch loss: 0.7243111729621887\n",
      "epoch: 22 \t last batch loss: 0.7077741026878357\n",
      "epoch: 23 \t last batch loss: 0.6945227384567261\n",
      "epoch: 24 \t last batch loss: 0.680840790271759\n",
      "epoch: 25 \t last batch loss: 0.6513049602508545\n",
      "epoch: 26 \t last batch loss: 0.6309817433357239\n",
      "epoch: 27 \t last batch loss: 0.6200099587440491\n",
      "epoch: 28 \t last batch loss: 0.6291572451591492\n",
      "epoch: 29 \t last batch loss: 0.6153217554092407\n",
      "epoch: 30 \t last batch loss: 0.5775450468063354\n",
      "epoch: 31 \t last batch loss: 0.5627506971359253\n",
      "epoch: 32 \t last batch loss: 0.5535898208618164\n",
      "epoch: 33 \t last batch loss: 0.5323798656463623\n",
      "epoch: 34 \t last batch loss: 0.5039652585983276\n",
      "epoch: 35 \t last batch loss: 0.46665287017822266\n",
      "epoch: 36 \t last batch loss: 0.4350334703922272\n",
      "epoch: 37 \t last batch loss: 0.4661821126937866\n",
      "epoch: 38 \t last batch loss: 0.4624587297439575\n",
      "epoch: 39 \t last batch loss: 0.40176740288734436\n",
      "epoch: 40 \t last batch loss: 0.37376827001571655\n",
      "epoch: 41 \t last batch loss: 0.3709808886051178\n",
      "epoch: 42 \t last batch loss: 0.4016288220882416\n",
      "epoch: 43 \t last batch loss: 0.45753926038742065\n",
      "epoch: 44 \t last batch loss: 0.498216450214386\n",
      "epoch: 45 \t last batch loss: 0.38809385895729065\n",
      "epoch: 46 \t last batch loss: 0.34724175930023193\n",
      "epoch: 47 \t last batch loss: 0.31794190406799316\n",
      "epoch: 48 \t last batch loss: 0.29312828183174133\n",
      "epoch: 49 \t last batch loss: 0.34917861223220825\n",
      "epoch: 50 \t last batch loss: 0.3278420567512512\n",
      "epoch: 51 \t last batch loss: 0.3004411458969116\n",
      "epoch: 52 \t last batch loss: 0.26746779680252075\n",
      "epoch: 53 \t last batch loss: 0.23863574862480164\n",
      "epoch: 54 \t last batch loss: 0.22258752584457397\n",
      "epoch: 55 \t last batch loss: 0.2129819393157959\n",
      "epoch: 56 \t last batch loss: 0.20996317267417908\n",
      "epoch: 57 \t last batch loss: 0.24949389696121216\n",
      "epoch: 58 \t last batch loss: 0.23071551322937012\n",
      "epoch: 59 \t last batch loss: 0.17635902762413025\n",
      "epoch: 60 \t last batch loss: 0.1765422523021698\n",
      "epoch: 61 \t last batch loss: 0.1681678593158722\n",
      "epoch: 62 \t last batch loss: 0.21750640869140625\n",
      "epoch: 63 \t last batch loss: 0.2208763062953949\n",
      "epoch: 64 \t last batch loss: 0.2399672269821167\n",
      "epoch: 65 \t last batch loss: 0.269249826669693\n",
      "epoch: 66 \t last batch loss: 0.24750986695289612\n",
      "epoch: 67 \t last batch loss: 0.21166400611400604\n",
      "epoch: 68 \t last batch loss: 0.17372271418571472\n",
      "epoch: 69 \t last batch loss: 0.17605336010456085\n",
      "epoch: 70 \t last batch loss: 0.17775818705558777\n",
      "epoch: 71 \t last batch loss: 0.1449878066778183\n",
      "epoch: 72 \t last batch loss: 0.13578465580940247\n",
      "epoch: 73 \t last batch loss: 0.12650808691978455\n",
      "epoch: 74 \t last batch loss: 0.12263914197683334\n",
      "epoch: 75 \t last batch loss: 0.13882550597190857\n",
      "epoch: 76 \t last batch loss: 0.13759194314479828\n",
      "epoch: 77 \t last batch loss: 0.16048851609230042\n",
      "epoch: 78 \t last batch loss: 0.13661831617355347\n",
      "epoch: 79 \t last batch loss: 0.09894690662622452\n",
      "epoch: 80 \t last batch loss: 0.1126573383808136\n",
      "epoch: 81 \t last batch loss: 0.11841493844985962\n",
      "epoch: 82 \t last batch loss: 0.1398567110300064\n",
      "epoch: 83 \t last batch loss: 0.07848308980464935\n",
      "epoch: 84 \t last batch loss: 0.09629075974225998\n",
      "epoch: 85 \t last batch loss: 0.08323550224304199\n",
      "epoch: 86 \t last batch loss: 0.09521131217479706\n",
      "epoch: 87 \t last batch loss: 0.057710856199264526\n",
      "epoch: 88 \t last batch loss: 0.064635269343853\n",
      "epoch: 89 \t last batch loss: 0.06724969297647476\n",
      "epoch: 90 \t last batch loss: 0.08082811534404755\n",
      "epoch: 91 \t last batch loss: 0.08260847628116608\n",
      "epoch: 92 \t last batch loss: 0.0809735357761383\n",
      "epoch: 93 \t last batch loss: 0.06512758880853653\n",
      "epoch: 94 \t last batch loss: 0.15119916200637817\n",
      "epoch: 95 \t last batch loss: 0.10930188000202179\n",
      "epoch: 96 \t last batch loss: 0.06628522276878357\n",
      "epoch: 97 \t last batch loss: 0.060727499425411224\n",
      "epoch: 98 \t last batch loss: 0.07644134759902954\n",
      "epoch: 99 \t last batch loss: 0.12825123965740204\n"
     ]
    }
   ],
   "source": [
    "loss = []\n",
    "for epoch in range(N_EPOCH):\n",
    "    for i in range(len(x_train_batches)):\n",
    "        x = torch.tensor(x_train_batches[i])\n",
    "        y = torch.tensor(y_train_batches[i])\n",
    "\n",
    "        x = x.permute(0,3,1,2)\n",
    "\n",
    "        x.to(device)\n",
    "        y.to(device)\n",
    "\n",
    "        y_pred = model(x)\n",
    "\n",
    "        opt.zero_grad()\n",
    "        loss = criterion(y_pred, y)\n",
    "        loss.backward()\n",
    "        opt.step()\n",
    "\n",
    "        # test\n",
    "        # zero gradients\n",
    "        # TODO\n",
    "        if i % 10 == 0:\n",
    "            y_test_pred = model(x_test)\n",
    "            test_loss = criterion(y_test_pred, y_test)\n",
    "            loss.append(test_loss.item())\n",
    "    \n",
    "    print(\"epoch: {} \\t last batch loss: {} \\t last batch loss: {}\".format(epoch, loss.item(),test_loss.item()))"
   ]
  }
 ],
 "metadata": {
  "accelerator": "GPU",
  "colab": {
   "collapsed_sections": [],
   "name": "pytorch.ipynb",
   "provenance": [],
   "version": "0.3.2"
  },
  "kernelspec": {
   "display_name": "Python 3",
   "language": "python",
   "name": "python3"
  },
  "language_info": {
   "codemirror_mode": {
    "name": "ipython",
    "version": 3
   },
   "file_extension": ".py",
   "mimetype": "text/x-python",
   "name": "python",
   "nbconvert_exporter": "python",
   "pygments_lexer": "ipython3",
   "version": "3.11.9"
  }
 },
 "nbformat": 4,
 "nbformat_minor": 1
}
